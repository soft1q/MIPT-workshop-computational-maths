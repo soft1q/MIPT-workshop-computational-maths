{
 "cells": [
  {
   "cell_type": "markdown",
   "metadata": {},
   "source": [
    "## 2.4 QR-разложение\n",
    "**При написании программы нельзя использовать готовые функции для матричного умножения и обращения матриц кроме случаев, когда это явно описано.**\n",
    "\n",
    "Напишите программу для решения системы $Ax = b$ методом наименьших квадратов с помощью $QR$-разложения Требования к программе:\n",
    "1. Программа должна содержать функцию, принимающую на вход матрицу A и вектор правой части b.\n",
    "2. Функция должна сначала вычислять $QR$-разложение матрицы $A \\in \\mathbb{C}^{m \\times n}, m \\geqslant n$ с помощью модифицированного алгоритма Грамма-Шмидта.\n",
    "3. После вычисления $QR$-разложения нужно решить систему методом наименьших квадратов. **Для умножения на матрицу $Q^T$ можно использовать готовую функцию.** Для решения системы с треугольной матрицей R нужно реализовать метод обратной подстановки.\n",
    "4. Функция должна возвращать матрицы $Q, R$ и вектор решения $x$.\n",
    "5. Программа должна вызывать реализованную функцию для\n",
    "  a. квадратной невырожденной матрицы\n",
    "  b. прямоугольной матрицы c $m > n$ с линейно независимыми столбцами\n",
    "из стандартных функций (например, `numpy.linalg.solve`, `numpy.linalg.lstsq`)"
   ]
  },
  {
   "cell_type": "code",
   "execution_count": 1,
   "metadata": {},
   "outputs": [
    {
     "name": "stdout",
     "output_type": "stream",
     "text": [
      "[[0.97411295 0.87419282 0.50046546 0.25647997]\n",
      " [0.89916723 0.08399249 0.86084681 0.58584591]\n",
      " [0.29218397 0.7170761  0.76481058 0.00745817]\n",
      " [0.25676587 0.25610749 0.86803926 0.06200503]]\n",
      "My QR-decomposition method: x =  [0.00481067 0.17626418 0.0712984  0.74754735]\n",
      "Built-in function: x =  [0.00481067 0.17626418 0.0712984  0.74754735]\n",
      "My QR-decomposition method: x =  [-0.01058508  0.45886965  0.26151499  0.0461313 ]\n",
      "Built-in function: x =  [-0.01058508  0.45886965  0.26151499  0.0461313 ]\n"
     ]
    }
   ],
   "source": [
    "import numpy as np\n",
    "np.warnings.filterwarnings(\"ignore\")\n",
    "\n",
    "def qr_solve(A, b):\n",
    "    # QR-decomposition\n",
    "    P = np.zeros(A.shape)\n",
    "    Q = np.zeros(A.shape)\n",
    "    R = np.zeros((A.shape[1], A.shape[1]))\n",
    "    for j in range(A.shape[1]):\n",
    "        P[:,j] = A[:,j]\n",
    "        for i in range(j):\n",
    "            R[i,j] = np.dot(P[:,j],Q[:,i])\n",
    "            P[:,j] = P[:,j] - Q[:,i]*R[i,j]\n",
    "        R[j,j] = np.linalg.norm(P[:,j])\n",
    "        Q[:,j] = P[:,j] / R[j,j]\n",
    "    # Finding y = Q*b for Rx = Q*b\n",
    "    y = Q.T @ b\n",
    "    # Finding solution x for Rx = y\n",
    "    x = np.zeros(A.shape[1])\n",
    "    for i in range(len(x) - 1, -1, -1):\n",
    "        x[i] = y[i]\n",
    "        for j in range(i + 1, len(x)):\n",
    "            x[i] = x[i] - R[i,j]*x[j]\n",
    "        x[i] = x[i] / R[i,i]\n",
    "    return Q, R, x\n",
    "    \n",
    "# Testing\n",
    "n = 4\n",
    "A = np.random.rand(n,n)\n",
    "b = np.random.rand(n)\n",
    "print(A)\n",
    "A = A + np.eye(n)\n",
    "Q, R, x = qr_solve(A, b)\n",
    "print(\"My QR-decomposition method: x = \", x)\n",
    "x_1 = np.linalg.solve(A, b)\n",
    "print(\"Built-in function: x = \", x_1)\n",
    "\n",
    "m, n = 7, 4\n",
    "A = np.random.rand(m,n)\n",
    "for i in range(n):\n",
    "    x = np.zeros(m)\n",
    "    x[i] = 1\n",
    "    A[:,i] = A[:,i] + x\n",
    "b = np.random.rand(m)\n",
    "Q, R, x = qr_solve(A, b)\n",
    "print(\"My QR-decomposition method: x = \", x)\n",
    "x_1 = np.linalg.lstsq(A, b)\n",
    "print(\"Built-in function: x = \", x_1[0])"
   ]
  },
  {
   "cell_type": "code",
   "execution_count": null,
   "metadata": {},
   "outputs": [],
   "source": []
  }
 ],
 "metadata": {
  "kernelspec": {
   "display_name": "Python 3",
   "language": "python",
   "name": "python3"
  },
  "language_info": {
   "codemirror_mode": {
    "name": "ipython",
    "version": 3
   },
   "file_extension": ".py",
   "mimetype": "text/x-python",
   "name": "python",
   "nbconvert_exporter": "python",
   "pygments_lexer": "ipython3",
   "version": "3.7.4"
  }
 },
 "nbformat": 4,
 "nbformat_minor": 2
}
