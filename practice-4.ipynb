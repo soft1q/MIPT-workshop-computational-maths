{
 "cells": [
  {
   "cell_type": "markdown",
   "metadata": {},
   "source": [
    "## 5.4 Составные квадратурные формулы\n",
    "Написать программу для вычисления интеграла по составной квадратурной формуле."
   ]
  },
  {
   "cell_type": "code",
   "execution_count": 1,
   "metadata": {},
   "outputs": [],
   "source": [
    "import numpy as np\n",
    "import matplotlib.pyplot as plt\n",
    "import scipy.stats as sps\n",
    "%matplotlib inline"
   ]
  },
  {
   "cell_type": "code",
   "execution_count": 2,
   "metadata": {},
   "outputs": [],
   "source": [
    "def calc_weights():\n",
    "    d = np.zeros(5)\n",
    "    tgrid = np.array([-1, -3/4, 0, 3/4, 1])\n",
    "    d[0] = 1 / 35    # t_0 = -1\n",
    "    d[1] = 512 / 945 # t_1 = -3/4\n",
    "    d[2] = 116 / 135 # t_2 = 0\n",
    "    d[3] = 512 / 945 # t_3 = 3/4\n",
    "    d[4] = 1 / 35    # t_4 = 1\n",
    "    return tgrid, d"
   ]
  },
  {
   "cell_type": "code",
   "execution_count": 3,
   "metadata": {},
   "outputs": [],
   "source": [
    "def make_new_grid(x):\n",
    "    temp = list()\n",
    "    for i in range(x.shape[0] - 1):\n",
    "        temp.append(x[i])\n",
    "        temp.append((x[i] + x[i + 1]) / 2)\n",
    "    temp.append(x[-1])\n",
    "    return np.array(temp)\n",
    "\n",
    "def integral(f, a, b, tol):\n",
    "    tgrid, d = calc_weights()\n",
    "    x = (a + b) / 2 + (b - a) / 2 * tgrid\n",
    "    S_1 = (b - a) / 2 * np.sum(f(x) * d)\n",
    "    S_2 = 0\n",
    "    xgrid = np.array([a, b])\n",
    "    err = np.inf\n",
    "    max_iter = 50\n",
    "    while (err > tol and max_iter > 0):\n",
    "        max_iter -= 1\n",
    "        xgrid = make_new_grid(xgrid)\n",
    "        # print(xgrid)\n",
    "        for i in range(xgrid.shape[0] - 1):\n",
    "            x = (xgrid[i] + xgrid[i + 1]) / 2 + (xgrid[i + 1] - xgrid[i]) / 2 * tgrid # np.linspace(-1, 1, 5)\n",
    "            S_2 += (xgrid[i + 1] - xgrid[i]) / 2 * np.dot(f(x), d)\n",
    "        err = np.abs(S_2 - S_1) / (2**5 - 1)\n",
    "        S_1 = S_2\n",
    "        S_2 = 0\n",
    "    return S_1, xgrid.shape[0] - 1"
   ]
  },
  {
   "cell_type": "code",
   "execution_count": 13,
   "metadata": {},
   "outputs": [
    {
     "data": {
      "image/png": "[encoded data removed]",
      "text/plain": [
       "<Figure size 720x360 with 1 Axes>"
      ]
     },
     "metadata": {
      "needs_background": "light"
     },
     "output_type": "display_data"
    }
   ],
   "source": [
    "f = lambda x : 1 / (25*x**2 + 1)\n",
    "a = -5\n",
    "b = 10\n",
    "tol_arr = np.array([2**(-i) for i in range(5, 51, 5)])\n",
    "N = list()\n",
    "for tol in tol_arr:\n",
    "    _, n = integral(f, a, b, tol)\n",
    "    N.append(n)\n",
    "N = np.array(N)\n",
    "plt.figure(figsize=(10, 5))\n",
    "plt.loglog(N, tol_arr)\n",
    "plt.loglog(N, tol_arr, 'ro')\n",
    "plt.xlabel(\"Количество отрезков $N$\")\n",
    "plt.ylabel(\"Критерий останова $\\\\varepsilon$\")\n",
    "plt.grid()"
   ]
  },
  {
   "cell_type": "code",
   "execution_count": null,
   "metadata": {},
   "outputs": [],
   "source": []
  }
 ],
 "metadata": {
  "kernelspec": {
   "display_name": "Python 3",
   "language": "python",
   "name": "python3"
  },
  "language_info": {
   "codemirror_mode": {
    "name": "ipython",
    "version": 3
   },
   "file_extension": ".py",
   "mimetype": "text/x-python",
   "name": "python",
   "nbconvert_exporter": "python",
   "pygments_lexer": "ipython3",
   "version": "3.7.4"
  }
 },
 "nbformat": 4,
 "nbformat_minor": 2
}
